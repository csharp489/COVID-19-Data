{
 "cells": [
  {
   "cell_type": "code",
   "execution_count": 40,
   "metadata": {},
   "outputs": [],
   "source": [
    "import pandas as pd\n",
    "import datetime"
   ]
  },
  {
   "cell_type": "code",
   "execution_count": 41,
   "metadata": {},
   "outputs": [],
   "source": [
    "# Define function- Rename columns\n",
    "\n",
    "def covid_rename_columns(input_data):\n",
    "    output_data=input_data.rename(\n",
    "                                columns = {'Province/State':'subregion'\n",
    "                                         ,'Country/Region':'country'\n",
    "                                         ,'Lat':'lat'\n",
    "                                         ,'Long':'long'\n",
    "                                         }\n",
    "    )\n",
    "    return(output_data)\n",
    "    "
   ]
  },
  {
   "cell_type": "code",
   "execution_count": 42,
   "metadata": {},
   "outputs": [],
   "source": [
    "# Define Function- Fill missing\n",
    "\n",
    "def covid_fill_missing(input_data):\n",
    "    output_data=input_data.fillna(value={'subregion':''})  #This will fill in NaN values with an empty string.\n",
    "    return(output_data)"
   ]
  },
  {
   "cell_type": "code",
   "execution_count": 43,
   "metadata": {},
   "outputs": [],
   "source": [
    "# Define function- Melt data (melt is used when we need to transform data from wide form to long form)\n",
    "\n",
    "def covid_melt_data(input_data , value_var_name):\n",
    "    output_data=input_data.melt(id_vars=['country','subregion','lat','long']\n",
    "                               ,var_name='date_raw'\n",
    "                               ,value_name=value_var_name\n",
    "                               )\n",
    "    return(output_data)"
   ]
  },
  {
   "cell_type": "code",
   "execution_count": 44,
   "metadata": {},
   "outputs": [],
   "source": [
    "# Define function- Convert Dates\n",
    "\n",
    "def covid_convert_dates(input_data):\n",
    "    output_data=input_data.assign(\n",
    "    date=pd.to_datetime(input_data.date_raw, format=\"%m/%d/%y\"))\n",
    "    output_data.drop(columns=['date_raw'], inplace=True)\n",
    "    return(output_data)"
   ]
  },
  {
   "cell_type": "code",
   "execution_count": 45,
   "metadata": {},
   "outputs": [],
   "source": [
    "# Define function- Rearrange Data\n",
    "\n",
    "def covid_rearrange_data(input_data, value_var_name):\n",
    "    output_data=(input_data\n",
    "                 .filter(['country','subregion','date','lat','long',value_var_name])\n",
    "                 .sort_values(['country','subregion','date','lat','long'])\n",
    "                 .reset_index(drop=True)\n",
    "                )\n",
    "    return(output_data)"
   ]
  },
  {
   "cell_type": "code",
   "execution_count": 46,
   "metadata": {},
   "outputs": [],
   "source": [
    "# Define function- Get and Wrangle data\n",
    "\n",
    "def covid_get_data(input_url, value_var_name):\n",
    "    covid_data_inprocess=pd.read_csv(input_url)\n",
    "    covid_data_inprocess=covid_rename_columns(covid_data_inprocess)\n",
    "    covid_data_inprocess=covid_fill_missing(covid_data_inprocess)\n",
    "    covid_data_inprocess=covid_melt_data(covid_data_inprocess,value_var_name)\n",
    "    covid_data_inprocess=covid_convert_dates(covid_data_inprocess)\n",
    "    covid_data_inprocess=covid_rearrange_data(covid_data_inprocess, value_var_name)\n",
    "    return(covid_data_inprocess)"
   ]
  },
  {
   "cell_type": "code",
   "execution_count": 47,
   "metadata": {},
   "outputs": [],
   "source": [
    "# Get Data\n",
    "\n",
    "url_confirmed='https://raw.githubusercontent.com/CSSEGISandData/COVID-19/master/csse_covid_19_data/csse_covid_19_time_series/time_series_covid19_confirmed_global.csv'\n",
    "url_death='https://raw.githubusercontent.com/CSSEGISandData/COVID-19/master/csse_covid_19_data/csse_covid_19_time_series/time_series_covid19_deaths_global.csv'\n",
    "url_recovered='https://raw.githubusercontent.com/CSSEGISandData/COVID-19/master/csse_covid_19_data/csse_covid_19_time_series/time_series_covid19_recovered_global.csv'\n",
    "\n",
    "covid_confirmed=covid_get_data(url_confirmed, 'confirmed')\n",
    "covid_death=covid_get_data(url_death, 'dead')\n",
    "covid_recovered=covid_get_data(url_recovered, 'recovered')"
   ]
  },
  {
   "cell_type": "code",
   "execution_count": 48,
   "metadata": {
    "scrolled": false
   },
   "outputs": [
    {
     "name": "stdout",
     "output_type": "stream",
     "text": [
      "           country subregion       date   lat  long  confirmed\n",
      "0      Afghanistan           2020-01-22  33.0  65.0          0\n",
      "1      Afghanistan           2020-01-23  33.0  65.0          0\n",
      "2      Afghanistan           2020-01-24  33.0  65.0          0\n",
      "3      Afghanistan           2020-01-25  33.0  65.0          0\n",
      "4      Afghanistan           2020-01-26  33.0  65.0          0\n",
      "...            ...       ...        ...   ...   ...        ...\n",
      "20772     Zimbabwe           2020-04-05 -20.0  30.0          9\n",
      "20773     Zimbabwe           2020-04-06 -20.0  30.0         10\n",
      "20774     Zimbabwe           2020-04-07 -20.0  30.0         11\n",
      "20775     Zimbabwe           2020-04-08 -20.0  30.0         11\n",
      "20776     Zimbabwe           2020-04-09 -20.0  30.0         11\n",
      "\n",
      "[20777 rows x 6 columns]\n"
     ]
    }
   ],
   "source": [
    "# print records\n",
    "print(covid_confirmed)"
   ]
  },
  {
   "cell_type": "markdown",
   "metadata": {},
   "source": [
    "The other 2 datasets contain data with a similar structure, except covid_deaths contains deaths, and covid_recovered contains recovered cases."
   ]
  },
  {
   "cell_type": "code",
   "execution_count": 49,
   "metadata": {
    "scrolled": false
   },
   "outputs": [
    {
     "name": "stdout",
     "output_type": "stream",
     "text": [
      "           country subregion       date   lat  long  dead\n",
      "0      Afghanistan           2020-01-22  33.0  65.0     0\n",
      "1      Afghanistan           2020-01-23  33.0  65.0     0\n",
      "2      Afghanistan           2020-01-24  33.0  65.0     0\n",
      "3      Afghanistan           2020-01-25  33.0  65.0     0\n",
      "4      Afghanistan           2020-01-26  33.0  65.0     0\n",
      "...            ...       ...        ...   ...   ...   ...\n",
      "20772     Zimbabwe           2020-04-05 -20.0  30.0     1\n",
      "20773     Zimbabwe           2020-04-06 -20.0  30.0     1\n",
      "20774     Zimbabwe           2020-04-07 -20.0  30.0     2\n",
      "20775     Zimbabwe           2020-04-08 -20.0  30.0     3\n",
      "20776     Zimbabwe           2020-04-09 -20.0  30.0     3\n",
      "\n",
      "[20777 rows x 6 columns]\n"
     ]
    }
   ],
   "source": [
    "print(covid_death)"
   ]
  },
  {
   "cell_type": "code",
   "execution_count": 50,
   "metadata": {},
   "outputs": [
    {
     "name": "stdout",
     "output_type": "stream",
     "text": [
      "           country subregion       date   lat  long  recovered\n",
      "0      Afghanistan           2020-01-22  33.0  65.0          0\n",
      "1      Afghanistan           2020-01-23  33.0  65.0          0\n",
      "2      Afghanistan           2020-01-24  33.0  65.0          0\n",
      "3      Afghanistan           2020-01-25  33.0  65.0          0\n",
      "4      Afghanistan           2020-01-26  33.0  65.0          0\n",
      "...            ...       ...        ...   ...   ...        ...\n",
      "19666     Zimbabwe           2020-04-05 -20.0  30.0          0\n",
      "19667     Zimbabwe           2020-04-06 -20.0  30.0          0\n",
      "19668     Zimbabwe           2020-04-07 -20.0  30.0          0\n",
      "19669     Zimbabwe           2020-04-08 -20.0  30.0          0\n",
      "19670     Zimbabwe           2020-04-09 -20.0  30.0          0\n",
      "\n",
      "[19671 rows x 6 columns]\n"
     ]
    }
   ],
   "source": [
    "print(covid_recovered)"
   ]
  },
  {
   "cell_type": "code",
   "execution_count": 51,
   "metadata": {
    "scrolled": false
   },
   "outputs": [
    {
     "name": "stdout",
     "output_type": "stream",
     "text": [
      "20777\n",
      "20777\n",
      "19671\n"
     ]
    }
   ],
   "source": [
    "# Get record counts\n",
    "\n",
    "print(len(covid_confirmed))\n",
    "print(len(covid_death))\n",
    "print(len(covid_recovered))"
   ]
  },
  {
   "cell_type": "markdown",
   "metadata": {},
   "source": [
    "## MERGE DATA"
   ]
  },
  {
   "cell_type": "code",
   "execution_count": 52,
   "metadata": {},
   "outputs": [],
   "source": [
    "# Drop unnecessary columns\n",
    "covid_death.drop(columns=['lat','long'], inplace= True)\n",
    "covid_recovered.drop(columns=['lat','long'], inplace= True)"
   ]
  },
  {
   "cell_type": "code",
   "execution_count": 53,
   "metadata": {},
   "outputs": [],
   "source": [
    "#Merge Data\n",
    "covid_data=(covid_confirmed\n",
    "           .merge(covid_death, on=['country','subregion','date'], how='left')\n",
    "           .merge(covid_recovered, on=['country','subregion','date'], how='left'))"
   ]
  },
  {
   "cell_type": "code",
   "execution_count": 54,
   "metadata": {},
   "outputs": [
    {
     "name": "stdout",
     "output_type": "stream",
     "text": [
      "           country subregion       date   lat  long  confirmed  dead  \\\n",
      "0      Afghanistan           2020-01-22  33.0  65.0          0     0   \n",
      "1      Afghanistan           2020-01-23  33.0  65.0          0     0   \n",
      "2      Afghanistan           2020-01-24  33.0  65.0          0     0   \n",
      "3      Afghanistan           2020-01-25  33.0  65.0          0     0   \n",
      "4      Afghanistan           2020-01-26  33.0  65.0          0     0   \n",
      "...            ...       ...        ...   ...   ...        ...   ...   \n",
      "20772     Zimbabwe           2020-04-05 -20.0  30.0          9     1   \n",
      "20773     Zimbabwe           2020-04-06 -20.0  30.0         10     1   \n",
      "20774     Zimbabwe           2020-04-07 -20.0  30.0         11     2   \n",
      "20775     Zimbabwe           2020-04-08 -20.0  30.0         11     3   \n",
      "20776     Zimbabwe           2020-04-09 -20.0  30.0         11     3   \n",
      "\n",
      "       recovered  \n",
      "0            0.0  \n",
      "1            0.0  \n",
      "2            0.0  \n",
      "3            0.0  \n",
      "4            0.0  \n",
      "...          ...  \n",
      "20772        0.0  \n",
      "20773        0.0  \n",
      "20774        0.0  \n",
      "20775        0.0  \n",
      "20776        0.0  \n",
      "\n",
      "[20777 rows x 8 columns]\n"
     ]
    }
   ],
   "source": [
    "# print records\n",
    "print(covid_data)"
   ]
  },
  {
   "cell_type": "code",
   "execution_count": 55,
   "metadata": {},
   "outputs": [],
   "source": [
    "new_cases_all=(covid_data\n",
    "              .sort_values(by=['country','subregion','date'])\n",
    "              .filter(['country','subregion','date','confirmed'])\n",
    "              .groupby(['country','subregion'])\n",
    "              .confirmed\n",
    "              .diff())"
   ]
  },
  {
   "cell_type": "code",
   "execution_count": 56,
   "metadata": {},
   "outputs": [],
   "source": [
    "covid_data=covid_data.assign(new_cases=new_cases_all)"
   ]
  },
  {
   "cell_type": "code",
   "execution_count": 57,
   "metadata": {},
   "outputs": [
    {
     "name": "stdout",
     "output_type": "stream",
     "text": [
      "        country subregion       date   lat  long  confirmed  dead  recovered  \\\n",
      "20772  Zimbabwe           2020-04-05 -20.0  30.0          9     1        0.0   \n",
      "20773  Zimbabwe           2020-04-06 -20.0  30.0         10     1        0.0   \n",
      "20774  Zimbabwe           2020-04-07 -20.0  30.0         11     2        0.0   \n",
      "20775  Zimbabwe           2020-04-08 -20.0  30.0         11     3        0.0   \n",
      "20776  Zimbabwe           2020-04-09 -20.0  30.0         11     3        0.0   \n",
      "\n",
      "       new_cases  \n",
      "20772        0.0  \n",
      "20773        1.0  \n",
      "20774        1.0  \n",
      "20775        0.0  \n",
      "20776        0.0  \n"
     ]
    }
   ],
   "source": [
    "print(covid_data.tail())"
   ]
  },
  {
   "cell_type": "code",
   "execution_count": 58,
   "metadata": {
    "scrolled": true
   },
   "outputs": [
    {
     "data": {
      "text/html": [
       "<div>\n",
       "<style scoped>\n",
       "    .dataframe tbody tr th:only-of-type {\n",
       "        vertical-align: middle;\n",
       "    }\n",
       "\n",
       "    .dataframe tbody tr th {\n",
       "        vertical-align: top;\n",
       "    }\n",
       "\n",
       "    .dataframe thead th {\n",
       "        text-align: right;\n",
       "    }\n",
       "</style>\n",
       "<table border=\"1\" class=\"dataframe\">\n",
       "  <thead>\n",
       "    <tr style=\"text-align: right;\">\n",
       "      <th></th>\n",
       "      <th>country</th>\n",
       "      <th>subregion</th>\n",
       "      <th>date</th>\n",
       "      <th>lat</th>\n",
       "      <th>long</th>\n",
       "      <th>confirmed</th>\n",
       "      <th>dead</th>\n",
       "      <th>recovered</th>\n",
       "      <th>new_cases</th>\n",
       "    </tr>\n",
       "  </thead>\n",
       "  <tbody>\n",
       "    <tr>\n",
       "      <td>11297</td>\n",
       "      <td>India</td>\n",
       "      <td></td>\n",
       "      <td>2020-01-22</td>\n",
       "      <td>21.0</td>\n",
       "      <td>78.0</td>\n",
       "      <td>0</td>\n",
       "      <td>0</td>\n",
       "      <td>0.0</td>\n",
       "      <td>NaN</td>\n",
       "    </tr>\n",
       "    <tr>\n",
       "      <td>11298</td>\n",
       "      <td>India</td>\n",
       "      <td></td>\n",
       "      <td>2020-01-23</td>\n",
       "      <td>21.0</td>\n",
       "      <td>78.0</td>\n",
       "      <td>0</td>\n",
       "      <td>0</td>\n",
       "      <td>0.0</td>\n",
       "      <td>0.0</td>\n",
       "    </tr>\n",
       "    <tr>\n",
       "      <td>11299</td>\n",
       "      <td>India</td>\n",
       "      <td></td>\n",
       "      <td>2020-01-24</td>\n",
       "      <td>21.0</td>\n",
       "      <td>78.0</td>\n",
       "      <td>0</td>\n",
       "      <td>0</td>\n",
       "      <td>0.0</td>\n",
       "      <td>0.0</td>\n",
       "    </tr>\n",
       "    <tr>\n",
       "      <td>11300</td>\n",
       "      <td>India</td>\n",
       "      <td></td>\n",
       "      <td>2020-01-25</td>\n",
       "      <td>21.0</td>\n",
       "      <td>78.0</td>\n",
       "      <td>0</td>\n",
       "      <td>0</td>\n",
       "      <td>0.0</td>\n",
       "      <td>0.0</td>\n",
       "    </tr>\n",
       "    <tr>\n",
       "      <td>11301</td>\n",
       "      <td>India</td>\n",
       "      <td></td>\n",
       "      <td>2020-01-26</td>\n",
       "      <td>21.0</td>\n",
       "      <td>78.0</td>\n",
       "      <td>0</td>\n",
       "      <td>0</td>\n",
       "      <td>0.0</td>\n",
       "      <td>0.0</td>\n",
       "    </tr>\n",
       "    <tr>\n",
       "      <td>...</td>\n",
       "      <td>...</td>\n",
       "      <td>...</td>\n",
       "      <td>...</td>\n",
       "      <td>...</td>\n",
       "      <td>...</td>\n",
       "      <td>...</td>\n",
       "      <td>...</td>\n",
       "      <td>...</td>\n",
       "      <td>...</td>\n",
       "    </tr>\n",
       "    <tr>\n",
       "      <td>11371</td>\n",
       "      <td>India</td>\n",
       "      <td></td>\n",
       "      <td>2020-04-05</td>\n",
       "      <td>21.0</td>\n",
       "      <td>78.0</td>\n",
       "      <td>3588</td>\n",
       "      <td>99</td>\n",
       "      <td>229.0</td>\n",
       "      <td>506.0</td>\n",
       "    </tr>\n",
       "    <tr>\n",
       "      <td>11372</td>\n",
       "      <td>India</td>\n",
       "      <td></td>\n",
       "      <td>2020-04-06</td>\n",
       "      <td>21.0</td>\n",
       "      <td>78.0</td>\n",
       "      <td>4778</td>\n",
       "      <td>136</td>\n",
       "      <td>375.0</td>\n",
       "      <td>1190.0</td>\n",
       "    </tr>\n",
       "    <tr>\n",
       "      <td>11373</td>\n",
       "      <td>India</td>\n",
       "      <td></td>\n",
       "      <td>2020-04-07</td>\n",
       "      <td>21.0</td>\n",
       "      <td>78.0</td>\n",
       "      <td>5311</td>\n",
       "      <td>150</td>\n",
       "      <td>421.0</td>\n",
       "      <td>533.0</td>\n",
       "    </tr>\n",
       "    <tr>\n",
       "      <td>11374</td>\n",
       "      <td>India</td>\n",
       "      <td></td>\n",
       "      <td>2020-04-08</td>\n",
       "      <td>21.0</td>\n",
       "      <td>78.0</td>\n",
       "      <td>5916</td>\n",
       "      <td>178</td>\n",
       "      <td>506.0</td>\n",
       "      <td>605.0</td>\n",
       "    </tr>\n",
       "    <tr>\n",
       "      <td>11375</td>\n",
       "      <td>India</td>\n",
       "      <td></td>\n",
       "      <td>2020-04-09</td>\n",
       "      <td>21.0</td>\n",
       "      <td>78.0</td>\n",
       "      <td>6725</td>\n",
       "      <td>226</td>\n",
       "      <td>620.0</td>\n",
       "      <td>809.0</td>\n",
       "    </tr>\n",
       "  </tbody>\n",
       "</table>\n",
       "<p>79 rows × 9 columns</p>\n",
       "</div>"
      ],
      "text/plain": [
       "      country subregion       date   lat  long  confirmed  dead  recovered  \\\n",
       "11297   India           2020-01-22  21.0  78.0          0     0        0.0   \n",
       "11298   India           2020-01-23  21.0  78.0          0     0        0.0   \n",
       "11299   India           2020-01-24  21.0  78.0          0     0        0.0   \n",
       "11300   India           2020-01-25  21.0  78.0          0     0        0.0   \n",
       "11301   India           2020-01-26  21.0  78.0          0     0        0.0   \n",
       "...       ...       ...        ...   ...   ...        ...   ...        ...   \n",
       "11371   India           2020-04-05  21.0  78.0       3588    99      229.0   \n",
       "11372   India           2020-04-06  21.0  78.0       4778   136      375.0   \n",
       "11373   India           2020-04-07  21.0  78.0       5311   150      421.0   \n",
       "11374   India           2020-04-08  21.0  78.0       5916   178      506.0   \n",
       "11375   India           2020-04-09  21.0  78.0       6725   226      620.0   \n",
       "\n",
       "       new_cases  \n",
       "11297        NaN  \n",
       "11298        0.0  \n",
       "11299        0.0  \n",
       "11300        0.0  \n",
       "11301        0.0  \n",
       "...          ...  \n",
       "11371      506.0  \n",
       "11372     1190.0  \n",
       "11373      533.0  \n",
       "11374      605.0  \n",
       "11375      809.0  \n",
       "\n",
       "[79 rows x 9 columns]"
      ]
     },
     "execution_count": 58,
     "metadata": {},
     "output_type": "execute_result"
    }
   ],
   "source": [
    "covid_data.query('country == \"India\"')"
   ]
  },
  {
   "cell_type": "code",
   "execution_count": 60,
   "metadata": {
    "scrolled": true
   },
   "outputs": [
    {
     "name": "stdout",
     "output_type": "stream",
     "text": [
      "      country subregion       date   lat  long  confirmed  dead  recovered  \\\n",
      "11305   India           2020-01-30  21.0  78.0          1     0        0.0   \n",
      "11306   India           2020-01-31  21.0  78.0          1     0        0.0   \n",
      "11307   India           2020-02-01  21.0  78.0          1     0        0.0   \n",
      "11308   India           2020-02-02  21.0  78.0          2     0        0.0   \n",
      "11309   India           2020-02-03  21.0  78.0          3     0        0.0   \n",
      "11310   India           2020-02-04  21.0  78.0          3     0        0.0   \n",
      "11311   India           2020-02-05  21.0  78.0          3     0        0.0   \n",
      "11312   India           2020-02-06  21.0  78.0          3     0        0.0   \n",
      "11313   India           2020-02-07  21.0  78.0          3     0        0.0   \n",
      "11314   India           2020-02-08  21.0  78.0          3     0        0.0   \n",
      "\n",
      "       new_cases  \n",
      "11305        1.0  \n",
      "11306        0.0  \n",
      "11307        0.0  \n",
      "11308        1.0  \n",
      "11309        1.0  \n",
      "11310        0.0  \n",
      "11311        0.0  \n",
      "11312        0.0  \n",
      "11313        0.0  \n",
      "11314        0.0  \n"
     ]
    }
   ],
   "source": [
    "print(covid_data.loc[(covid_data['country']=='India') & (covid_data['confirmed']>0), :].head(10))"
   ]
  },
  {
   "cell_type": "markdown",
   "metadata": {},
   "source": [
    "India's first confirmed case of coronavirus came on 30th January"
   ]
  },
  {
   "cell_type": "code",
   "execution_count": null,
   "metadata": {},
   "outputs": [],
   "source": []
  }
 ],
 "metadata": {
  "kernelspec": {
   "display_name": "Python 3",
   "language": "python",
   "name": "python3"
  },
  "language_info": {
   "codemirror_mode": {
    "name": "ipython",
    "version": 3
   },
   "file_extension": ".py",
   "mimetype": "text/x-python",
   "name": "python",
   "nbconvert_exporter": "python",
   "pygments_lexer": "ipython3",
   "version": "3.7.1"
  }
 },
 "nbformat": 4,
 "nbformat_minor": 2
}
